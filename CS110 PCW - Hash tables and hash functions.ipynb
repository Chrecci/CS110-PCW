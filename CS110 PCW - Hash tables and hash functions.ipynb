{
 "cells": [
  {
   "cell_type": "markdown",
   "metadata": {},
   "source": [
    "Before you turn this problem in, make sure everything runs as expected. First, **restart the kernel** (in the menubar, select Kernel$\\rightarrow$Restart) and then **run all cells** (in the menubar, select Cell$\\rightarrow$Run All).\n",
    "\n",
    "Note that this Pre-class Work is estimated to take **35 minutes**.\n",
    "\n",
    "Make sure you fill in any place that says `YOUR CODE HERE` or \"YOUR ANSWER HERE\", as well as your name and collaborators below:"
   ]
  },
  {
   "cell_type": "code",
   "execution_count": null,
   "metadata": {},
   "outputs": [],
   "source": [
    "NAME = \"Chretien Li\"\n",
    "COLLABORATORS = \"\""
   ]
  },
  {
   "cell_type": "markdown",
   "metadata": {},
   "source": [
    "---"
   ]
  },
  {
   "cell_type": "markdown",
   "metadata": {
    "deletable": false,
    "editable": false,
    "nbgrader": {
     "checksum": "4d981108d5cc409ac26cfbe6fa53cb1f",
     "grade": false,
     "grade_id": "cell-5b237cc13279b029",
     "locked": true,
     "schema_version": 1,
     "solution": false
    }
   },
   "source": [
    "# CS110 Pre-class Work - Hash tables and hash functions"
   ]
  },
  {
   "cell_type": "markdown",
   "metadata": {
    "deletable": false,
    "nbgrader": {
     "checksum": "cdb562114e50f9ce1c97be3536b59efa",
     "grade": false,
     "grade_id": "cell-b27891b3ff16f730",
     "locked": true,
     "schema_version": 1,
     "solution": false
    }
   },
   "source": [
    "## Part A. Social Security [time estimate: 3 minutes]\n",
    "\n",
    "Could we use a direct address table to store a country's entire set of social security numbers (aka id numbers)? Why or why not?\n"
   ]
  },
  {
   "cell_type": "markdown",
   "metadata": {
    "deletable": false,
    "nbgrader": {
     "checksum": "7b193e66cbea5bd9dac131a3d6adfefa",
     "grade": true,
     "grade_id": "cell-e751647d9af78c11",
     "locked": false,
     "points": 0,
     "schema_version": 1,
     "solution": true
    }
   },
   "source": [
    "Yes I believe so. There's no reason why you wouldn't be able to, since every key is unique (SSN), it just won't be as efficient as if you did it with a hash table. Since a country's population is usually in the order of tens or hundreds of millions, and each SSN must be unique, we would have an overwhelming number of possible keys."
   ]
  },
  {
   "cell_type": "markdown",
   "metadata": {
    "deletable": false,
    "editable": false,
    "nbgrader": {
     "checksum": "35f74a7f882cabb36df7ee2c43ee51db",
     "grade": false,
     "grade_id": "cell-cba2028918eea1fd",
     "locked": true,
     "schema_version": 1,
     "solution": false
    }
   },
   "source": [
    "## Part B. Chained Hash-table [time estimate: 32 minutes]\n",
    "\n",
    "### Question 1 [time estimate: 7 minutes]\n",
    "\n",
    "Using the code in the cell below, complete the missing sections of code. You should copy and paste the code in an additional cell and fill in the code there."
   ]
  },
  {
   "cell_type": "code",
   "execution_count": null,
   "metadata": {
    "deletable": false,
    "editable": false,
    "nbgrader": {
     "checksum": "ffc1d9c145de9e5c52f96dfdc8a66fe2",
     "grade": false,
     "grade_id": "cell-9e41d88b035338f4",
     "locked": true,
     "schema_version": 1,
     "solution": false
    }
   },
   "outputs": [],
   "source": [
    "import random\n",
    "import string\n",
    "\n",
    "\n",
    "def randomword(length):\n",
    "    return ''.join(random.choice(string.ascii_lowercase) for i in range(length))\n",
    "\n",
    "\n",
    "def empty_hash_table(N):\n",
    "    return [[] for n in range(N)]\n",
    "\n",
    "\n",
    "def add_to_hash_table(hash_table, item, hash_function):\n",
    "    N = len(hash_table)\n",
    "    # YOUR CODE HERE\n",
    "    return hash_table\n",
    "\n",
    "\n",
    "def contains(hash_table, item, hash_function):\n",
    "    N = len(hash_table)\n",
    "    # YOUR CODE HERE\n",
    "    # return true if the item has already been stored in the hash_table\n",
    "\n",
    "\n",
    "def remove(hash_table, item, hash_function):\n",
    "    if not contains(hash_table, item, hash_function):\n",
    "        raise ValueError()\n",
    "    # YOUR CODE HERE\n",
    "    return hash_table\n",
    "\n",
    "\n",
    "# Hash Functions\n",
    "def hash_str1(string):\n",
    "    ans = 0\n",
    "    for chr in string:\n",
    "        ans += ord(chr)\n",
    "    return ans\n",
    "\n",
    "def hash_str2(string):\n",
    "    ans=int(ord(string[0]))\n",
    "    for ix in range(1, len(string)):\n",
    "        ans = ans ^ ord(string[ix]) \n",
    "    return int(bin(ans).split('b')[1])\n",
    "\n",
    "def hash_str3(string):\n",
    "    ans = 0\n",
    "    for chr in string:\n",
    "        ans = ans * 128 + ord(chr)\n",
    "    return ans\n",
    "\n",
    "def hash_str4(string):\n",
    "    random.seed(ord(string[0]))\n",
    "    return random.getrandbits(32)"
   ]
  },
  {
   "cell_type": "code",
   "execution_count": 39,
   "metadata": {
    "deletable": false,
    "nbgrader": {
     "checksum": "b39c1af2de8a4581d16a2d630fcaac74",
     "grade": true,
     "grade_id": "cell-1b6cc6df105c101f",
     "locked": false,
     "points": 0,
     "schema_version": 1,
     "solution": true
    }
   },
   "outputs": [],
   "source": [
    "import random\n",
    "import string\n",
    "\n",
    "\n",
    "def randomword(length):\n",
    "    return ''.join(random.choice(string.ascii_lowercase) for i in range(length))\n",
    "\n",
    "\n",
    "def empty_hash_table(N):\n",
    "    return [[] for n in range(N)]\n",
    "\n",
    "\n",
    "def add_to_hash_table(hash_table, item, hash_function):\n",
    "    N = len(hash_table)\n",
    "    N = len(hash_table)\n",
    "    idx = convert_index(hash_function,item,N)\n",
    "    hash_table[idx].append(item)\n",
    "    return hash_table\n",
    "\n",
    "\n",
    "def contains(hash_table, item, hash_function):\n",
    "    N = len(hash_table)\n",
    "    idx = convert_index(hash_function,item,N)\n",
    "    for element in hash_table[idx]:\n",
    "        if element == item:\n",
    "            return True\n",
    "    return False\n",
    "\n",
    "\n",
    "\n",
    "def remove(hash_table, item, hash_function):\n",
    "    if not contains(hash_table, item, hash_function):\n",
    "        raise ValueError()\n",
    "    idx = convert_index(hash_function,item,N)\n",
    "    del(hash_table[idx])\n",
    "    return hash_table\n",
    "\n",
    "\n",
    "\n",
    "# Hash Functions\n",
    "def hash_str1(string):\n",
    "    ans = 0\n",
    "    for chr in string:\n",
    "        ans += ord(chr)\n",
    "    return ans\n",
    "\n",
    "def hash_str2(string):\n",
    "    ans=int(ord(string[0]))\n",
    "    for ix in range(1, len(string)):\n",
    "        ans = ans ^ ord(string[ix]) \n",
    "    return int(bin(ans).split('b')[1])\n",
    "\n",
    "def hash_str3(string):\n",
    "    ans = 0\n",
    "    for chr in string:\n",
    "        ans = ans * 128 + ord(chr)\n",
    "    return ans\n",
    "\n",
    "def hash_str4(string):\n",
    "    random.seed(ord(string[0]))\n",
    "    return random.getrandbits(32)\n",
    "\n",
    "def convert_index(hash_function,item,N):\n",
    "    str_to_number = hash_function(item) \n",
    "    try:\n",
    "        idx = str_to_number % N \n",
    "    except TypeError:\n",
    "        idx = int(str_to_number.split('b')[1]) % N\n",
    "    return idx"
   ]
  },
  {
   "cell_type": "markdown",
   "metadata": {
    "deletable": false,
    "editable": false,
    "nbgrader": {
     "checksum": "d323c68243f6d1fe79cbf5ad01ee85ae",
     "grade": false,
     "grade_id": "cell-66fb150dd2e509a7",
     "locked": true,
     "schema_version": 1,
     "solution": false
    }
   },
   "source": [
    "### Question 2 [time estimate: 2 minutes]\n",
    "\n",
    "Using the code, create 100,000 words of 10 characters each."
   ]
  },
  {
   "cell_type": "code",
   "execution_count": 40,
   "metadata": {
    "deletable": false,
    "nbgrader": {
     "checksum": "b9d2f1faad23eecd6f3691968bb4e455",
     "grade": true,
     "grade_id": "cell-234b1e83c871ddc7",
     "locked": false,
     "points": 0,
     "schema_version": 1,
     "solution": true
    }
   },
   "outputs": [
    {
     "name": "stdout",
     "output_type": "stream",
     "text": [
      "['jpwzgkocig', 'fcoyrlgpzk', 'huzmngcnoj', 'gdutvkvimz', 'mhncmxvnao', 'grdlzalwla', 'isebnficye', 'mvxluspfpq', 'jfwqvaccbs', 'lrwodvwtyt', 'zozuevfzgx', 'roecejkmcb', 'rrwlobgivk', 'cieiogndqz', 'khdiufaaum', 'tousbzkhzi', 'pvgrsrkkae', 'jlvlmmubxh', 'qcgevdekdl', 'aovgvvvlqv', 'urgeorrkjv', 'jxihngojyb', 'hbskxoovbi', 'rwgbyotban', 'oviytepxzu', 'bbwitudwct', 'zokqxcepwn', 'diahlguzrd', 'hxguffxszv', 'xgoebgqwzv', 'qhdsqakqes', 'vpeddbotsw', 'ttcimyewbd', 'jvqbdjjhfx', 'murmezwywu', 'kwbhjmhphg', 'netfpopgiy', 'aygkybhjqi', 'bymeisvxuv', 'tlyzotibov', 'jcfvalpbmb', 'lbhamepmdx', 'fnwvzxxoil', 'xgvtjmeyfq', 'vpjhnqbbqd', 'wwaywpjoul', 'tjelphyeyo', 'xcmdtypdrb', 'voilmfycrz']\n"
     ]
    }
   ],
   "source": [
    "words = []\n",
    "\n",
    "#make list of random words\n",
    "for i in range (100000):\n",
    "    words.append(randomword(10))\n",
    "\n",
    "print(words[1:50])"
   ]
  },
  {
   "cell_type": "markdown",
   "metadata": {
    "deletable": false,
    "editable": false,
    "nbgrader": {
     "checksum": "190e7fdc00fc311f5ff32a390fff1ca4",
     "grade": false,
     "grade_id": "cell-2fbadca52cec7230",
     "locked": true,
     "schema_version": 1,
     "solution": false
    }
   },
   "source": [
    "### Question 3 [time estimate: 2 minutes]\n",
    "\n",
    "Create four chained hash-tables with 5000 slots."
   ]
  },
  {
   "cell_type": "code",
   "execution_count": 41,
   "metadata": {
    "deletable": false,
    "nbgrader": {
     "checksum": "0d1473300ae336ceb57d11687ab3ec0a",
     "grade": true,
     "grade_id": "cell-2dabefc41493ec16",
     "locked": false,
     "points": 0,
     "schema_version": 1,
     "solution": true
    }
   },
   "outputs": [],
   "source": [
    "\n",
    "hashtable_1 = empty_hash_table(5000)\n",
    "hashtable_2 = empty_hash_table(5000)\n",
    "hashtable_3 = empty_hash_table(5000)\n",
    "hashtable_4 = empty_hash_table(5000)"
   ]
  },
  {
   "cell_type": "markdown",
   "metadata": {
    "deletable": false,
    "editable": false,
    "nbgrader": {
     "checksum": "c3d147917ae237a6dc75eddab48dbaa6",
     "grade": false,
     "grade_id": "cell-cc2e6d00330e691e",
     "locked": true,
     "schema_version": 1,
     "solution": false
    }
   },
   "source": [
    "### Question 4 [time estimate: 2 minutes]\n",
    "\n",
    "Store all the words in each chained hash table using each of the different hash functions."
   ]
  },
  {
   "cell_type": "code",
   "execution_count": 42,
   "metadata": {
    "deletable": false,
    "nbgrader": {
     "checksum": "af209dceb17bf5f8d9fadf0808855f79",
     "grade": true,
     "grade_id": "cell-8a08ade8d45590a7",
     "locked": false,
     "points": 0,
     "schema_version": 1,
     "solution": true
    }
   },
   "outputs": [],
   "source": [
    "for word in words:\n",
    "    hashtable_1 = add_to_hash_table(hashtable_1, word, hash_str1)\n",
    "    hashtable_2 = add_to_hash_table(hashtable_2, word, hash_str2)\n",
    "    hashtable_3 = add_to_hash_table(hashtable_3, word, hash_str3)\n",
    "    hashtable_4 = add_to_hash_table(hashtable_4, word, hash_str4)"
   ]
  },
  {
   "cell_type": "markdown",
   "metadata": {
    "deletable": false,
    "editable": false,
    "nbgrader": {
     "checksum": "858437d142a66b825fb0bebdb1c4d9fe",
     "grade": false,
     "grade_id": "cell-da2c8b42618fbde4",
     "locked": true,
     "schema_version": 1,
     "solution": false
    }
   },
   "source": [
    "### Question 5 [time estimate: 4 minutes]\n",
    "\n",
    "Measure the number of collisions for each hash function."
   ]
  },
  {
   "cell_type": "code",
   "execution_count": 47,
   "metadata": {
    "deletable": false,
    "nbgrader": {
     "checksum": "156f57bc1c6c1a3e10ca1804aa205099",
     "grade": true,
     "grade_id": "cell-a968f9e14a0416c4",
     "locked": false,
     "points": 0,
     "schema_version": 1,
     "solution": true
    }
   },
   "outputs": [
    {
     "name": "stdout",
     "output_type": "stream",
     "text": [
      "Collisions during hash_str1: 99825\n",
      "Collisions during hash_str2: 99984\n",
      "Collisions during hash_str3: 95000\n",
      "Collisions during hash_str4: 99974\n"
     ]
    }
   ],
   "source": [
    "collision_1 = 0\n",
    "collision_2 = 0\n",
    "collision_3 = 0\n",
    "collision_4 = 0\n",
    "#sum the length of slots with more than 1 elements.\n",
    "#substract 1: in a slot with 2 elements, there is one collision. For 3 elements, 2 collisions and so on\n",
    "for i in range(5000):\n",
    "    if len(hashtable_1[i])>1:\n",
    "        collision_1+=len(hashtable_1[i])-1\n",
    "    if len(hashtable_2[i])>1:\n",
    "        collision_2+=len(hashtable_2[i])-1\n",
    "    if len(hashtable_3[i])>1:\n",
    "        collision_3+=len(hashtable_3[i])-1\n",
    "    if len(hashtable_4[i])>1:\n",
    "        collision_4+=len(hashtable_4[i])-1\n",
    "print('Collisions during hash_str1:', collision_1)\n",
    "print('Collisions during hash_str2:', collision_2)\n",
    "print('Collisions during hash_str3:', collision_3)\n",
    "print('Collisions during hash_str4:', collision_4)"
   ]
  },
  {
   "cell_type": "markdown",
   "metadata": {
    "deletable": false,
    "editable": false,
    "nbgrader": {
     "checksum": "ef47cabb10897284ca375490003e6b3d",
     "grade": false,
     "grade_id": "cell-435ba1cfb2d80447",
     "locked": true,
     "schema_version": 1,
     "solution": false
    }
   },
   "source": [
    "### Question 6 [time estimate: 5 minutes]\n",
    "\n",
    "For each of the hash functions, how many elements are in a bucket on average (if it is not empty)?\n"
   ]
  },
  {
   "cell_type": "code",
   "execution_count": 53,
   "metadata": {
    "deletable": false,
    "nbgrader": {
     "checksum": "9f77d346c6e5ffbfb92ac0707c3c1d72",
     "grade": true,
     "grade_id": "cell-b4052afa2ee7c702",
     "locked": false,
     "points": 0,
     "schema_version": 1,
     "solution": true
    }
   },
   "outputs": [
    {
     "name": "stdout",
     "output_type": "stream",
     "text": [
      "Avg elements/slot using hash_str1: 571.4285714285714\n",
      "Avg elements/slot using hash_str2: 6250.0\n",
      "Avg elements/slot using hash_str3: 20.0\n",
      "Avg elements/slot using hash_str4: 3846.153846153846\n"
     ]
    }
   ],
   "source": [
    "total_words = 100000\n",
    "\n",
    "count_hashtable_1 = 0\n",
    "count_hashtable_2 = 0\n",
    "count_hashtable_3 = 0\n",
    "count_hashtable_4 = 0\n",
    "\n",
    "#whenever slot is not empty we add one to our counter to track\n",
    "for i in range(5000):\n",
    "    if len(hashtable_1[i]) > 0:\n",
    "        count_hashtable_1 += 1\n",
    "    if len(hashtable_2[i]) > 0:\n",
    "        count_hashtable_2 += 1\n",
    "    if len(hashtable_3[i]) > 0:\n",
    "        count_hashtable_3 += 1\n",
    "    if len(hashtable_4[i]) > 0:\n",
    "        count_hashtable_4 += 1\n",
    "\n",
    "#divide total words by number of non_empty slots to get average\n",
    "print('Avg elements/slot using hash_str1:', total_words/count_hashtable_1)\n",
    "print('Avg elements/slot using hash_str2:', total_words/count_hashtable_2)\n",
    "print('Avg elements/slot using hash_str3:', total_words/count_hashtable_3)\n",
    "print('Avg elements/slot using hash_str4:', total_words/count_hashtable_4)"
   ]
  },
  {
   "cell_type": "markdown",
   "metadata": {
    "deletable": false,
    "editable": false,
    "nbgrader": {
     "checksum": "aaeb9bd55b7a86f8bc8079cbb7f8bca4",
     "grade": false,
     "grade_id": "cell-b86aef4dd22c236c",
     "locked": true,
     "schema_version": 1,
     "solution": false
    }
   },
   "source": [
    "### Question 7 [time estimate: 5 minutes]\n",
    "\n",
    "Time how long it takes to find elements that are in each hash table.\n"
   ]
  },
  {
   "cell_type": "code",
   "execution_count": 54,
   "metadata": {
    "deletable": false,
    "nbgrader": {
     "checksum": "23927c46b8067f49ef10e9b4183f7680",
     "grade": true,
     "grade_id": "cell-0605f7dec7128414",
     "locked": false,
     "points": 0,
     "schema_version": 1,
     "solution": true
    }
   },
   "outputs": [
    {
     "name": "stdout",
     "output_type": "stream",
     "text": [
      "To find all the words stored in each table, it takes:\n",
      "hash_str1: 5.3039000034332276e-05 s/word\n",
      "hash_str2: 0.00024119529962539672 s/word\n",
      "hash_str3: 7.124807834625244e-06 s/word\n",
      "hash_str4: 0.00016866297006607055 s/word\n"
     ]
    }
   ],
   "source": [
    "import time\n",
    "\n",
    "count_hashtable_q7_1 = 0\n",
    "count_hashtable_q7_2 = 0\n",
    "count_hashtable_q7_3 = 0\n",
    "count_hashtable_q7_4 = 0\n",
    "\n",
    "for word in words:\n",
    "    start = time.time()\n",
    "    contains(hashtable_1, word, hash_str1)\n",
    "    count_hashtable_q7_1 += time.time() - start\n",
    "    \n",
    "    start = time.time()\n",
    "    contains(hashtable_2, word, hash_str2)\n",
    "    count_hashtable_q7_2 += time.time() - start\n",
    "    \n",
    "    start = time.time()\n",
    "    contains(hashtable_3, word, hash_str3)\n",
    "    count_hashtable_q7_3 += time.time() - start\n",
    "    \n",
    "    start = time.time()\n",
    "    contains(hashtable_4, word, hash_str4)\n",
    "    count_hashtable_q7_4 += time.time() - start\n",
    "\n",
    "print(\"To find all the words stored in each table, it takes:\")\n",
    "print('hash_str1:', count_hashtable_q7_1/total_words, 's/word')\n",
    "print('hash_str2:', count_hashtable_q7_2/total_words, 's/word')\n",
    "print('hash_str3:', count_hashtable_q7_3/total_words, 's/word')\n",
    "print('hash_str4:', count_hashtable_q7_4/total_words, 's/word')"
   ]
  },
  {
   "cell_type": "markdown",
   "metadata": {
    "deletable": false,
    "editable": false,
    "nbgrader": {
     "checksum": "b051093ca9a2faf1658679380bf29033",
     "grade": false,
     "grade_id": "cell-75db2c2e62cec090",
     "locked": true,
     "schema_version": 1,
     "solution": false
    }
   },
   "source": [
    "### Question 8 [time estimate: 5 minutes]\n",
    "\n",
    "For each hash table, time how long it takes to find 10,000 elements that have not been stored."
   ]
  },
  {
   "cell_type": "code",
   "execution_count": 55,
   "metadata": {
    "deletable": false,
    "nbgrader": {
     "checksum": "99b2fa8c88000c2143cb00fac1f6aa5f",
     "grade": true,
     "grade_id": "cell-b846b45e1b98ae59",
     "locked": false,
     "points": 0,
     "schema_version": 1,
     "solution": true
    }
   },
   "outputs": [
    {
     "name": "stdout",
     "output_type": "stream",
     "text": [
      "To find all the words stored in each table, it takes:\n",
      "hash_str1: 1.0138630867004394e-06 s/word\n",
      "hash_str2: 6.851686239242554e-05 s/word\n",
      "hash_str3: 1.4372611045837403e-06 s/word\n",
      "hash_str4: 4.835349082946777e-05 s/word\n"
     ]
    }
   ],
   "source": [
    "newwords = []\n",
    "total_words2 = 10000\n",
    "for i in range (total_words2):\n",
    "    newwords.append(randomword(11))\n",
    "\n",
    "count_hashtable_q8_1 = 0\n",
    "count_hashtable_q8_2 = 0\n",
    "count_hashtable_q8_3 = 0\n",
    "count_hashtable_q8_4 = 0\n",
    "\n",
    "for word in newwords:\n",
    "    start = time.time()\n",
    "    contains(hashtable_1, word, hash_str1)\n",
    "    count_hashtable_q8_1 += time.time() - start\n",
    "    \n",
    "    start = time.time()\n",
    "    contains(hashtable_2, word, hash_str2)\n",
    "    count_hashtable_q8_2 += time.time() - start\n",
    "    \n",
    "    start = time.time()\n",
    "    contains(hashtable_3, word, hash_str3)\n",
    "    count_hashtable_q8_3 += time.time() - start\n",
    "    \n",
    "    start = time.time()\n",
    "    contains(hashtable_4, word, hash_str4)\n",
    "    count_hashtable_q8_4 += time.time() - start\n",
    "\n",
    "print(\"To find all the words stored in each table, it takes:\")\n",
    "print('hash_str1:', count_hashtable_q8_1/total_words, 's/word')\n",
    "print('hash_str2:', count_hashtable_q8_2/total_words, 's/word')\n",
    "print('hash_str3:', count_hashtable_q8_3/total_words, 's/word')\n",
    "print('hash_str4:', count_hashtable_q8_4/total_words, 's/word')"
   ]
  }
 ],
 "metadata": {
  "kernelspec": {
   "display_name": "Python 3",
   "language": "python",
   "name": "python3"
  },
  "language_info": {
   "codemirror_mode": {
    "name": "ipython",
    "version": 3
   },
   "file_extension": ".py",
   "mimetype": "text/x-python",
   "name": "python",
   "nbconvert_exporter": "python",
   "pygments_lexer": "ipython3",
   "version": "3.7.3"
  }
 },
 "nbformat": 4,
 "nbformat_minor": 2
}
