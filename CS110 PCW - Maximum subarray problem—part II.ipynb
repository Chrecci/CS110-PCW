{
 "cells": [
  {
   "cell_type": "markdown",
   "metadata": {},
   "source": [
    "Before you turn this problem in, make sure everything runs as expected. First, **restart the kernel** (in the menubar, select Kernel$\\rightarrow$Restart) and then **run all cells** (in the menubar, select Cell$\\rightarrow$Run All).\n",
    "\n",
    "Note that this Pre-class Work is estimated to take **32 minutes**.\n",
    "\n",
    "Make sure you fill in any place that says `YOUR CODE HERE` or \"YOUR ANSWER HERE\", as well as your name and collaborators below:"
   ]
  },
  {
   "cell_type": "code",
   "execution_count": null,
   "metadata": {},
   "outputs": [],
   "source": [
    "NAME = \"Chretien Li\"\n",
    "COLLABORATORS = \"\""
   ]
  },
  {
   "cell_type": "markdown",
   "metadata": {},
   "source": [
    "---"
   ]
  },
  {
   "cell_type": "markdown",
   "metadata": {
    "deletable": false,
    "nbgrader": {
     "checksum": "6eb33d4bbb91bdad042e00eb02fae1ad",
     "grade": false,
     "grade_id": "cell-f941f4ddd5e342f7",
     "locked": true,
     "schema_version": 1,
     "solution": false
    }
   },
   "source": [
    "# CS110 Pre-class Work - Maximum subarray problem—part II\n",
    "\n",
    "## Question 1 [time estimate: 2 minutes]\n",
    "Paste in your Python implementation of the maximum subarray from the previous class in the cell below and use that to find out the value of the maximum subarray of this array: `A = [-2, -3, 4, -1, -2, 1]`"
   ]
  },
  {
   "cell_type": "code",
   "execution_count": 2,
   "metadata": {
    "deletable": false,
    "nbgrader": {
     "checksum": "6c4991e90ad8cdfb8cf42529b7e5edd6",
     "grade": true,
     "grade_id": "cell-e69c8bbcd40ca242",
     "locked": false,
     "points": 0,
     "schema_version": 1,
     "solution": true
    }
   },
   "outputs": [
    {
     "data": {
      "text/plain": [
       "(2, 2, 4)"
      ]
     },
     "execution_count": 2,
     "metadata": {},
     "output_type": "execute_result"
    }
   ],
   "source": [
    "def bruteforce_max_subarray(A):\n",
    "    #intialize all the values we're going to store as 0\n",
    "    #this includes the total value (max_subarray), the initial index of subarray (index_i), final index (index_j), and for fun, the subarray itself\n",
    "    max_subarray = float(\"-inf\")\n",
    "    index_i = 0\n",
    "    index_j = 0\n",
    "    max_index = []\n",
    "    \n",
    "    #nested for loop. What we're trying to do is for each value in our subarray, check the subarray for each index after it\n",
    "    #so we start with the first value of array. Then check the value of the subarray formed with the number right after it, then the one after that and so on\n",
    "    #if we come up with a higher value, store it\n",
    "    #once we check for every value, repeat but starting at second value of array and so on\n",
    "    for i in range(len(A)+1):\n",
    "        \n",
    "        #want to define j starting from next value after i, this way we don't return a subarray of just 1\n",
    "        for j in range(i+1, len(A)+1):\n",
    "            #temporary value of new subarray to check later if it's greater than what we have\n",
    "            temp = 0\n",
    "            \n",
    "            #for loop to add up all values in subarray\n",
    "            for x in A[i: j]:\n",
    "                temp += x\n",
    "                \n",
    "            #check to see if it's larger than currently stored value. If so, store value alongside all other information we're interested in\n",
    "            if temp > max_subarray:\n",
    "                max_subarray = temp\n",
    "                index_i = i\n",
    "                index_j = j\n",
    "                max_index = (tuple(A[i:j]))\n",
    "    #return desired values. \n",
    "    return index_i, index_j-1, max_subarray\n",
    "\n",
    "bruteforce_max_subarray([-2, -3, 4, -1, -2, 1])"
   ]
  },
  {
   "cell_type": "markdown",
   "metadata": {
    "deletable": false,
    "editable": false,
    "nbgrader": {
     "checksum": "676f4558ca97298a50665d2b57563a54",
     "grade": false,
     "grade_id": "cell-6b2d39096ef80c67",
     "locked": true,
     "schema_version": 1,
     "solution": false
    }
   },
   "source": [
    "## Question 2 [time estimate: 5 minutes]\n",
    "Now, your friend Joe comes and appends a single extra number at the end of the array, which becomes:  `B = [-2, -3, 4, -1, -2, 1, 8]`. With the output from ```max_subarray(A)```, do you need to rerun ```max_subarray()``` for the new array again to find the subarray we need? Explain why, or why not, in as much detail as possible, using, if necessary, a specific example to illustrate your reasoning. The subsequent questions will help you figure out an efficient algorithmic strategy to address the last question, but make sure to write your explanation above first, before answering the remaining questions.\n"
   ]
  },
  {
   "cell_type": "markdown",
   "metadata": {
    "deletable": false,
    "nbgrader": {
     "checksum": "b848c0f0fa07252cc99055a801b12e47",
     "grade": true,
     "grade_id": "cell-d4b7cd845c816263",
     "locked": false,
     "points": 0,
     "schema_version": 1,
     "solution": true
    }
   },
   "source": [
    "Yes we do. Originally, for array A, the maximum subarray was just a single index, [4]. This is because all other values are negative and would lower the sum. The exception to this being the 1 at the end, but the negative values sandwhiched between \"4\" and \"1\" are greater in magnitude than just 1. However, now that 8 is added to subarray B, the maximum subarray is no longer just 4.Going from index [2,6], inclusive, the new maximum subarray, the sum is now 10, a larger value than previously in subarray A. THe algorithm as is has no way of determining this other than just doing everything single guess and check. As such, we have to run the algorithm again. If I understand the problem correctly, had the array been all negative values, then we wouldn't need to check everything again so long as the appended value is positive, as that automatically makes the new subarray (from 4 until the end) the maxiumum sub array."
   ]
  },
  {
   "cell_type": "markdown",
   "metadata": {
    "deletable": false,
    "editable": false,
    "nbgrader": {
     "checksum": "055be509a3fd9e61e64a6572949aa994",
     "grade": false,
     "grade_id": "cell-7280eecbaa455be1",
     "locked": true,
     "schema_version": 1,
     "solution": false
    }
   },
   "source": [
    "## Question 3 [time estimate: 5 minutes]\n",
    "\n",
    "**Determine if the following statement is True or False and explain your answer.**\n",
    "If the maximum subarray of the array A is different than the maximum subarray of the array B (questions 1 and 2), the new maximum-subarray doesn’t need to include 8 (i.e., the newly appended element). \n"
   ]
  },
  {
   "cell_type": "markdown",
   "metadata": {
    "deletable": false,
    "nbgrader": {
     "checksum": "2b29f3c119737d73a7578e00d43972a4",
     "grade": true,
     "grade_id": "cell-9377964a8756f13b",
     "locked": false,
     "points": 0,
     "schema_version": 1,
     "solution": true
    }
   },
   "source": [
    "False. Without 8, the subarray value remains at 4. Only with 8 included can we get the new value of 10"
   ]
  },
  {
   "cell_type": "markdown",
   "metadata": {
    "deletable": false,
    "editable": false,
    "nbgrader": {
     "checksum": "461bf61cb22c2304f3988c6f34a901e8",
     "grade": false,
     "grade_id": "cell-e7cc711ccdade69f",
     "locked": true,
     "schema_version": 1,
     "solution": false
    }
   },
   "source": [
    "## Question 4 [time estimate: 10 minutes]\n",
    "Complete the Python function `incremental_max_subarray(x, mx)` in the cell below.\n",
    "\n",
    "This [video](https://www.youtube.com/watch?v=AAgErqQmwmA&list=PLF_a-qBXTGFektoI6JUOTRL36JlvD04BR&index=4&t=0s)  might be helpful to understand the `incremental_max_subarray` problem."
   ]
  },
  {
   "cell_type": "code",
   "execution_count": 12,
   "metadata": {
    "deletable": false,
    "nbgrader": {
     "checksum": "ac3f0799ce4ff7159403a97b99cbb5bd",
     "grade": false,
     "grade_id": "cell-0230e459f3d701f8",
     "locked": false,
     "schema_version": 1,
     "solution": true
    }
   },
   "outputs": [],
   "source": [
    "def incremental_max_subarray(x, mx):\n",
    "    \"\"\" \n",
    "    Parameters\n",
    "    ----------\n",
    "    x : list\n",
    "        A NON-EMPTY list of numbers (e.g., the \n",
    "        array B in the first two questions above)\n",
    "        \n",
    "        If x has 1 element: returns the value of \n",
    "        the element regardless of the value of mx\n",
    "        \n",
    "    mx \n",
    "        The maximum subarray of x excluding its \n",
    "        ast element (i.e., compute the maximum \n",
    "        subarray of the input array x considering \n",
    "        only its first len(x) - 1 elements)\n",
    "    \n",
    "    Returns\n",
    "    -------\n",
    "    int\n",
    "        The maximum subarray of the array x\n",
    "    \n",
    "    Example\n",
    "    -------\n",
    "    Using the array B in question 2, the result \n",
    "    of incremental_max_subarray(B, 4) is 10: \n",
    "    \n",
    "        10 = 8 + 1 - 2 -1 + 4 \n",
    "    \n",
    "    \n",
    "    \"\"\"\n",
    "    # if our input x only has one input, that number is by default the maximum value\n",
    "    if len(x) == 1:\n",
    "        return x[0]\n",
    "    else:\n",
    "        #initialize a value that serves as a tracker. it will be used to hold the maximum value of the array\n",
    "        #Baring that this value remains above zero, if it doesn't, then reset tracker value to 0 as any subarray including slice up until this point won't have positive contribution\n",
    "        count = 0\n",
    "        \n",
    "        #another value stores the maximum value so long as it was larger than the previous one. This way, if the value dips below zero, never to come back up again, we know what the largest value was\n",
    "        max_subarray = float(\"-inf\")\n",
    "        \n",
    "        #iterate over every item in inputted list\n",
    "        for i in x:\n",
    "            \n",
    "            #add item to count\n",
    "            count += i\n",
    "            \n",
    "            #if the count at this point is larger than previous maximum value, set count as new largest value\n",
    "            if count > max_subarray:\n",
    "                max_subarray = count\n",
    "            #if count goes below zero, reset to 0\n",
    "            if count < 0:\n",
    "                count = 0\n",
    "        \n",
    "        #return the larger of maximum value without last entry, and maximum\n",
    "        return max(max_subarray, mx)\n",
    "    "
   ]
  },
  {
   "cell_type": "code",
   "execution_count": 1,
   "metadata": {},
   "outputs": [
    {
     "name": "stdout",
     "output_type": "stream",
     "text": [
      "[-2]\n"
     ]
    }
   ],
   "source": [
    "B = [-2, -3, 4, -1, -2, 1, 8]\n",
    "print(B[:1])"
   ]
  },
  {
   "cell_type": "code",
   "execution_count": 13,
   "metadata": {
    "deletable": false,
    "editable": false,
    "nbgrader": {
     "checksum": "70a3880be02d6f703dfa95229957e71f",
     "grade": true,
     "grade_id": "cell-9abf19e56620ffa3",
     "locked": true,
     "points": 1,
     "schema_version": 1,
     "solution": false
    }
   },
   "outputs": [],
   "source": [
    "B = [-2, -3, 4, -1, -2, 1, 8]\n",
    "assert(incremental_max_subarray(B, 4) == 10)\n",
    "assert(incremental_max_subarray(B[:1], 0) == B[0])"
   ]
  },
  {
   "cell_type": "markdown",
   "metadata": {
    "deletable": false,
    "editable": false
   },
   "source": [
    "## Question 5\n",
    "\n",
    "### Part 1 [time estimate: 5 minutes]\n",
    "\n",
    "Now use `incremental_max_subarray(x, mx)` iteratively, starting from the first element, to calculate the maximum subarray of a given list. Come up with a few test cases to test your code."
   ]
  },
  {
   "cell_type": "code",
   "execution_count": 15,
   "metadata": {
    "deletable": false,
    "nbgrader": {
     "checksum": "d9cdd0a60c40e487e87d79d21915e36b",
     "grade": false,
     "grade_id": "cell-fd96d4ccccd99fe6",
     "locked": false,
     "schema_version": 1,
     "solution": true
    }
   },
   "outputs": [
    {
     "name": "stdout",
     "output_type": "stream",
     "text": [
      "4\n"
     ]
    }
   ],
   "source": [
    "def max_subarray(A):\n",
    "    #same as above, but only return overall maximum value of inputed list\n",
    "    # if our input x only has one input, that number is by default the maximum value\n",
    "    if len(A) == 1:\n",
    "        return x[0]\n",
    "    else:\n",
    "        #initialize a value that serves as a tracker. it will be used to hold the maximum value of the array\n",
    "        #Baring that this value remains above zero, if it doesn't, then reset tracker value to 0 as any subarray including slice up until this point won't have positive contribution\n",
    "        count = 0\n",
    "        \n",
    "        #another value stores the maximum value so long as it was larger than the previous one. This way, if the value dips below zero, never to come back up again, we know what the largest value was\n",
    "        max_subarray = float(\"-inf\")\n",
    "        \n",
    "        #iterate over every item in inputted list\n",
    "        for i in A:\n",
    "            \n",
    "            #add item to count\n",
    "            count += i\n",
    "            \n",
    "            #if the count at this point is larger than previous maximum value, set count as new largest value\n",
    "            if count > max_subarray:\n",
    "                max_subarray = count\n",
    "            #if count goes below zero, reset to 0\n",
    "            if count < 0:\n",
    "                count = 0\n",
    "        \n",
    "        #return the larger of maximum value without last entry, and maximum\n",
    "        return max_subarray\n",
    "    \n",
    "print (max_subarray([-2, -3, 4, -1, -2, 1]))"
   ]
  },
  {
   "cell_type": "code",
   "execution_count": null,
   "metadata": {
    "deletable": false,
    "editable": false,
    "nbgrader": {
     "checksum": "74149a9559625383203ec1320bff5558",
     "grade": true,
     "grade_id": "cell-669ad779766aa2c3",
     "locked": true,
     "points": 1,
     "schema_version": 1,
     "solution": false
    }
   },
   "outputs": [],
   "source": [
    "# Please ignore this cell. This cell is for us to implement the tests \n",
    "# to see if your code works properly. "
   ]
  },
  {
   "cell_type": "markdown",
   "metadata": {
    "deletable": false,
    "editable": false,
    "nbgrader": {
     "checksum": "03054d2ff22ec9310060ab534208ec0d",
     "grade": false,
     "grade_id": "cell-ae966fc92d098939",
     "locked": true,
     "schema_version": 1,
     "solution": false
    }
   },
   "source": [
    "### Part 2 [time estimate: 5 minutes]\n",
    "Is this more efficient than the divide-and-conquer approach? Explain."
   ]
  },
  {
   "cell_type": "markdown",
   "metadata": {
    "deletable": false,
    "nbgrader": {
     "checksum": "69eb86a7f05367f6396017910664f67d",
     "grade": true,
     "grade_id": "cell-cd8f0b130a7136db",
     "locked": false,
     "points": 0,
     "schema_version": 1,
     "solution": true
    }
   },
   "source": [
    "Yes this is more efficient that divide and conquer. In terms of time complexity, divide and conquer has a complexity of O(N) + O(Nlog(N)), while this approach O(N). As all we need to do is iterate across each value of the list in a linear fashion, this approach is more efficient"
   ]
  }
 ],
 "metadata": {
  "kernelspec": {
   "display_name": "Python 3",
   "language": "python",
   "name": "python3"
  },
  "language_info": {
   "codemirror_mode": {
    "name": "ipython",
    "version": 3
   },
   "file_extension": ".py",
   "mimetype": "text/x-python",
   "name": "python",
   "nbconvert_exporter": "python",
   "pygments_lexer": "ipython3",
   "version": "3.7.3"
  }
 },
 "nbformat": 4,
 "nbformat_minor": 2
}
