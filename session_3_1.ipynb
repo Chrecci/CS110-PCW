{
 "cells": [
  {
   "cell_type": "markdown",
   "metadata": {},
   "source": [
    "Before you turn this problem in, make sure everything runs as expected. First, **restart the kernel** (in the menubar, select Kernel$\\rightarrow$Restart) and then **run all cells** (in the menubar, select Cell$\\rightarrow$Run All).\n",
    "\n",
    "Note that this Pre-class Work is estimated to take **1 hour and 30 minutes**.\n",
    "\n",
    "Make sure you fill in any place that says `YOUR CODE HERE` or \"YOUR ANSWER HERE\", as well as your name and collaborators below:"
   ]
  },
  {
   "cell_type": "code",
   "execution_count": null,
   "metadata": {},
   "outputs": [],
   "source": [
    "NAME = \"Chretien Li\"\n",
    "COLLABORATORS = \"\""
   ]
  },
  {
   "cell_type": "markdown",
   "metadata": {},
   "source": [
    "---"
   ]
  },
  {
   "cell_type": "markdown",
   "metadata": {
    "deletable": false,
    "editable": false,
    "nbgrader": {
     "checksum": "ff3288a2b0acfc2e2f917a549d038e5c",
     "grade": false,
     "grade_id": "cell-9e44910e5a73668d",
     "locked": true,
     "schema_version": 1,
     "solution": false
    }
   },
   "source": [
    "# CS110 Pre-class Work - Mergesort and recurrences\n",
    "\n",
    "## Question 1 [time estimate: 20 minutes]\n",
    "\n",
    "First, please read carefully [this note](https://drive.google.com/open?id=1SfrRTKWDb6szsJENgvNF7-u2B96ecaF2), which reviews the MERGE operation in Cormen et al.\n",
    "\n",
    "After reviewing the example above (Cormen et al., Figure 2.3),  you need to manually create similar illustrations as in the example above but this time for the input array:\n",
    "\n",
    "![array](array.png)\n",
    "\n",
    "For this exercise, assume that the call to the algorithm is MERGE(A, 1, 3, 6) and draw different resulting stages of the arrays A, L, and R as the merge algorithm is executed.  You can hand-draw or use any drawing tool to produce panel illustrations, as in the example above.  Include your final drawings in the cell below. Feel free to use additional cells (Markdown or Code) for this question.\n",
    "\n",
    "**Note**: ```MERGE``` function is to combine two lists together, not to create a sorted list. Please check the parameters carefully to correctly identify two sub-lists you need to merge."
   ]
  },
  {
   "cell_type": "markdown",
   "metadata": {
    "deletable": false,
    "nbgrader": {
     "checksum": "b4d0caf51fb6b587f68db4e806af35d0",
     "grade": true,
     "grade_id": "cell-badbff7790708987",
     "locked": false,
     "points": 0,
     "schema_version": 1,
     "solution": true
    }
   },
   "source": [
    "#index 2-4 inclusive (L), 5-7 inclusive (R)\n",
    "Array: [6,7,8,1,4,6]\n",
    "-> [!6,7,8] & [!1,4,6]\n",
    "    - 6 vs 1\n",
    "Array: [1,7,8,1,4,6]\n",
    "-> [!6,7,8] & [1,!4,6]\n",
    "    - 6 vs 4\n",
    "Array: [1,4,8,1,4,6]\n",
    "-> [!6,7,8] & [1,4,!6]\n",
    "    - 6 vs 6\n",
    "Array: [1,4,6,6,4,6]\n",
    "-> [6,!7,!8] & [1,4,6]\n",
    "    - Only left array remaining to be checked\n",
    "    - Add both to end\n",
    "Temp array:[1,4,6,6,7,8]\n"
   ]
  },
  {
   "cell_type": "markdown",
   "metadata": {
    "deletable": false,
    "editable": false,
    "nbgrader": {
     "checksum": "7c9608898d23ecbe07c084ca6d6da655",
     "grade": false,
     "grade_id": "cell-6dd1317d1ea8ab9f",
     "locked": true,
     "schema_version": 1,
     "solution": false
    }
   },
   "source": [
    "## Question 2 [time estimate: 5 minutes]\n",
    "Now using your understanding of Part I of the merge algorithm, can you think of an efficient way to implement this part in Python? (hint: using Python lists). Give your answer in prose in the cell below."
   ]
  },
  {
   "cell_type": "markdown",
   "metadata": {
    "deletable": false,
    "nbgrader": {
     "checksum": "9bf35550640c33f366c5cffad7fdf33a",
     "grade": true,
     "grade_id": "cell-4f961721620a6645",
     "locked": false,
     "points": 0,
     "schema_version": 1,
     "solution": true
    }
   },
   "source": [
    "instead of iterating over original array and adding to new array, jsut create new list from as slices of original array"
   ]
  },
  {
   "cell_type": "markdown",
   "metadata": {
    "deletable": false,
    "editable": false,
    "nbgrader": {
     "checksum": "010584ea3a4f00fba43b52bb04cd0ed2",
     "grade": false,
     "grade_id": "cell-84932c7c0c20b750",
     "locked": true,
     "schema_version": 1,
     "solution": false
    }
   },
   "source": [
    "## Question 3 [time estimate: 20 minutes]\n",
    "\n",
    "Write a Python implementation of the merge pseudocode (both parts). Your Python function must take the same four input arguments as described in the $MERGE(A,p,q,r)$. Test your code by running the example in problem 1 and 2 of this pre-class work. Feel free to come up with additional cases to check if your code is working properly. Your code should return A.\n",
    "\n",
    "**Note**: Please note that the pseudocde in Cormen et. al. works with the indexing convention starting at 1; in Python we will use the customary indexing convention starting at 0."
   ]
  },
  {
   "cell_type": "code",
   "execution_count": 55,
   "metadata": {
    "deletable": false,
    "nbgrader": {
     "checksum": "43760e27d0b385c30476353b3d546a79",
     "grade": false,
     "grade_id": "cell-a67719d65c1ac9f3",
     "locked": false,
     "schema_version": 1,
     "solution": true
    }
   },
   "outputs": [
    {
     "name": "stdout",
     "output_type": "stream",
     "text": [
      "[1, 2, 4, 6, 6, 7, 8, 9]\n"
     ]
    }
   ],
   "source": [
    "def merge(A, p, q, r):\n",
    "    #length of two arrays, left and right\n",
    "    n_1 = q - p + 1\n",
    "    n_2 = r-q\n",
    "    \n",
    "    #creates temporary arrays \n",
    "    L = [0] * (n_1) \n",
    "    R = [0] * (n_2) \n",
    "  \n",
    "    # loops over original array and copies appropriate slices into temporary arrays \n",
    "    for i in range(n_1): \n",
    "        L[i] = A[p + i] \n",
    "  \n",
    "    for j in range(n_2): \n",
    "        R[j] = A[q + 1 + j] \n",
    "   \n",
    "    #Initialize index of left, right, and merged arrays\n",
    "    i = 0 \n",
    "    j = 0 \n",
    "    k = p \n",
    "    \n",
    "    #while loop that goes through subarrays, then modifies original array accordingly\n",
    "    #termination condition is until one of the subarrays is fully checked through\n",
    "    while i < n_1 and j < n_2 : \n",
    "        if L[i] <= R[j]: \n",
    "            A[k] = L[i] \n",
    "            i += 1\n",
    "        else: \n",
    "            A[k] = R[j] \n",
    "            j += 1\n",
    "        k += 1\n",
    "       \n",
    "    #copies what's left of left array\n",
    "    while i < n_1: \n",
    "        A[k] = L[i] \n",
    "        i += 1\n",
    "        k += 1\n",
    "    #copies what's left of right array\n",
    "    while i < n_2: \n",
    "        A[k] = R[i] \n",
    "        j += 1\n",
    "        k += 1\n",
    "    return A\n",
    "\n",
    "#test to make sure works\n",
    "print(merge([2,6,7,8,1,4,6,9],1,3,6))"
   ]
  },
  {
   "cell_type": "code",
   "execution_count": null,
   "metadata": {
    "deletable": false,
    "editable": false,
    "nbgrader": {
     "checksum": "699908274975a6bff4f9fb021e666ce4",
     "grade": true,
     "grade_id": "cell-e98759fe14428af0",
     "locked": true,
     "points": 0,
     "schema_version": 1,
     "solution": false
    }
   },
   "outputs": [],
   "source": [
    "# Please ignore this cell. This cell is for us to implement the tests \n",
    "# to see if your code works properly. "
   ]
  },
  {
   "cell_type": "markdown",
   "metadata": {
    "deletable": false,
    "nbgrader": {
     "checksum": "b2d80ef5c8845de0122c6420b853605d",
     "grade": false,
     "grade_id": "cell-49f3f61ee6d72bb9",
     "locked": true,
     "schema_version": 1,
     "solution": false
    }
   },
   "source": [
    "## Question 4 [time estimate: 5 minutes]\n",
    "\n",
    "Suppose that your Python implementation of the merge algorithm is already working. Read and comment the code for merge sort below:"
   ]
  },
  {
   "cell_type": "code",
   "execution_count": 57,
   "metadata": {
    "deletable": false,
    "nbgrader": {
     "checksum": "53611abb1448334a346783091382fb12",
     "grade": false,
     "grade_id": "cell-073a21c6aac8225e",
     "locked": true,
     "schema_version": 1,
     "solution": false
    }
   },
   "outputs": [
    {
     "name": "stdout",
     "output_type": "stream",
     "text": [
      "[1, 2, 3, 4, 5, 6, 7, 8, 9, 10]\n"
     ]
    }
   ],
   "source": [
    "#recursive function that divides arrays into smaller subarrays, sorts through those, then merge back together into complete solution\n",
    "def merge_sort(A,p,r):\n",
    "    \n",
    "    #keep splitting until each subarray is length 1\n",
    "    if p < r:\n",
    "        \n",
    "        #q is midway (floor) between p and r, the endpoints of array\n",
    "        q = (p+r)//2\n",
    "        \n",
    "        #call function again on \"left\" array, splitting into two again\n",
    "        merge_sort(A,p,q)\n",
    "        merge_sort(A,q+1,r)\n",
    "        merge(A,p,q,r)\n",
    "        \n",
    "        #call function again on \"right\" array, splitting into two again\n",
    "        \n",
    "        \n",
    "        #use merge function\n",
    "        \n",
    "    return(A)\n",
    "print(merge_sort([10,9,8,7,6,5,4,3,2,1],0,9))"
   ]
  },
  {
   "cell_type": "code",
   "execution_count": null,
   "metadata": {
    "deletable": false,
    "editable": false,
    "nbgrader": {
     "checksum": "35fbb3c437b3ba39ede0d87d6719223b",
     "grade": true,
     "grade_id": "cell-a3a71f67390c1f82",
     "locked": true,
     "points": 0,
     "schema_version": 1,
     "solution": false
    }
   },
   "outputs": [],
   "source": [
    "# Please ignore this cell. This cell is for us to implement the tests \n",
    "# to see if your code works properly. "
   ]
  },
  {
   "cell_type": "markdown",
   "metadata": {
    "deletable": false,
    "nbgrader": {
     "checksum": "61cfba995efe3c9c37092a650047fdf3",
     "grade": false,
     "grade_id": "cell-5b296f793fefdbfe",
     "locked": true,
     "schema_version": 1,
     "solution": false
    }
   },
   "source": [
    "## Question 5 [time estimate: 15 minutes]\n",
    "Count the number of steps and time your merge_sort() function with the following input: `list_k = [i for i in range(100*k, 0, -1)] `, where $k= 1, 2, 3, …, 15 $. If you are not familiar with what this piece of code is doing, you may want to check the \"List Comprehension\" section in this [Python Help Sheet](https://drive.google.com/open?id=1paW2ByiraoDQViie0gGxApRN9DKbjHGx).\n"
   ]
  },
  {
   "cell_type": "code",
   "execution_count": 42,
   "metadata": {
    "deletable": false,
    "nbgrader": {
     "checksum": "cc3f59157e795d05422e849f3e7cc03a",
     "grade": true,
     "grade_id": "cell-8a4233ab58d3d0bb",
     "locked": false,
     "points": 0,
     "schema_version": 1,
     "solution": true
    }
   },
   "outputs": [
    {
     "name": "stdout",
     "output_type": "stream",
     "text": [
      "[99, 199, 299, 399, 499, 599, 699, 799, 899, 999, 1099, 1199, 1299, 1399, 1499]\n"
     ]
    }
   ],
   "source": [
    "# YOUR CODE HERE\n",
    "def step_counter():\n",
    "    \n",
    "    #start with 2 lists, one for the steps counted for k in range(1,16), and the other to track steps themselves\n",
    "    list_of_counts = []\n",
    "    counter = []\n",
    "    for k in range(1,16):\n",
    "        list_k = [i for i in range(100*k, 0, -1)]\n",
    "        \n",
    "        sorted_list, count_total = merge_sort(list_k, 0, len(list_k)-1, counter[:])\n",
    "        \n",
    "        #each step will append 1 to counter list. Add sum of that entire list for total count\n",
    "        list_of_counts.append(sum(count_total))\n",
    "    return list_of_counts\n",
    "\n",
    "def merge_sort(A,p,r,counter):\n",
    "    \n",
    "    #keep splitting until each subarray is length 1\n",
    "    if p < r:\n",
    "        \n",
    "        #q is midway (floor) between p and r, the endpoints of array\n",
    "        q = (p+r)//2\n",
    "        \n",
    "        #add 1 to couunter list\n",
    "        counter.append(1)\n",
    "        \n",
    "        #call function again on \"left\" array, splitting into two again\n",
    "        merge_sort(A,p,q, counter)\n",
    "        \n",
    "        #call function again on \"right\" array, splitting into two again\n",
    "        merge_sort(A,q+1,r, counter)\n",
    "        \n",
    "        #use merge function\n",
    "        merge(A,p,q,r)\n",
    "    return(A,counter)\n",
    "print(step_counter())"
   ]
  },
  {
   "cell_type": "markdown",
   "metadata": {
    "deletable": false,
    "editable": false
   },
   "source": [
    "## Question 6 [time estimate: 25 minutes] \n",
    "Use the code you wrote for Lesson \"Measuring algorithms' efficiency\" (i.e., selection sort, bubble sort, insertion sort). Plot the following graphs:\n",
    "* **Graph 1**: 4 lines for **the number of steps** of each of the 4 sorting algorithms (i.e., selection sort, bubble sort, insertion sort, merge sort). Which algorithm performs best? Why? \n",
    "* **Graph 2**: 4 lines for **the timing** of each of the 4 sorting algorithms (i.e., selection sort, bubble sort, insertion sort, merge sort). Which algorithm performs best? Why?\n",
    "\n",
    "Use as many cells as you wish (code cells or markdown cells alike) to complete this question.\n",
    "\n",
    "You may find the section \"Simple 2-Dimensional Plots in Python\" in this [Python Help Sheet](https://drive.google.com/open?id=1paW2ByiraoDQViie0gGxApRN9DKbjHGx) helpful."
   ]
  },
  {
   "cell_type": "code",
   "execution_count": 68,
   "metadata": {
    "deletable": false,
    "nbgrader": {
     "checksum": "0561f29260f91795736500d62066a4c7",
     "grade": true,
     "grade_id": "cell-d09efb7c7fe55e69",
     "locked": false,
     "points": 0,
     "schema_version": 1,
     "solution": true
    }
   },
   "outputs": [
    {
     "data": {
      "image/png": "[encoded data removed]",
      "text/plain": [
       "<Figure size 432x288 with 1 Axes>"
      ]
     },
     "metadata": {
      "needs_background": "light"
     },
     "output_type": "display_data"
    }
   ],
   "source": [
    "#import necessary libraries\n",
    "from matplotlib import pyplot as plt\n",
    "import timeit\n",
    "#sorting algorithms imported from previous work\n",
    "\n",
    "def insertion_sort(A):\n",
    "    #for each function, in order to time, we will take the initial time at which the function starts, and the time at which it stops. Subtracting the two will give us total time elapsed\n",
    "    start = timeit.default_timer()\n",
    "    count = 0\n",
    "    for j in range(1, len(A)):\n",
    "        key = A[j]\n",
    "        i= j-1\n",
    "        while i >= 0 and A[i]>key:\n",
    "            A[i+1] = A[i]\n",
    "            i -= 1\n",
    "            count += 1\n",
    "        A[i+1] = key\n",
    "    stop = timeit.default_timer()\n",
    "    elapsed = stop - start\n",
    "    return count,  elapsed\n",
    "def bubble_sort(A):\n",
    "    start = timeit.default_timer()\n",
    "    count = 0\n",
    "    for i in range(-1, len(A)):\n",
    "        for j in range(len(A)-1, i + 1, -1):\n",
    "            if A[j] < A[j-1]:\n",
    "                count += 1\n",
    "                A[j], A[j-1] = A[j-1], A[j]\n",
    "    stop = timeit.default_timer()\n",
    "    elapsed = stop - start\n",
    "    return count,  elapsed\n",
    "def selection_sort(A):\n",
    "    start = timeit.default_timer()\n",
    "    count = 0\n",
    "    n = len(A) \n",
    "    for i in range(0,n):\n",
    "        count += 1\n",
    "        minidx = i\n",
    "        for j in range(i, n):\n",
    "            if A[j]<A[minidx]:\n",
    "                minidx=j\n",
    "                count += 1\n",
    "        A[i], A[minidx] = A[minidx], A[i]\n",
    "    stop = timeit.default_timer()\n",
    "    elapsed = stop - start\n",
    "    return count,  elapsed\n",
    "\n",
    "def merge_sort(A,p,r,counter):\n",
    "    \n",
    "    #keep splitting until each subarray is length 1\n",
    "    if p < r:\n",
    "        \n",
    "        #q is midway (floor) between p and r, the endpoints of array\n",
    "        q = (p+r)//2\n",
    "        \n",
    "        #add 1 to couunter list\n",
    "        counter.append(1)\n",
    "        \n",
    "        #call function again on \"left\" array, splitting into two again\n",
    "        merge_sort(A,p,q, counter)\n",
    "        \n",
    "        #call function again on \"right\" array, splitting into two again\n",
    "        merge_sort(A,q+1,r, counter)\n",
    "        \n",
    "        #use merge function\n",
    "        merge(A,p,q,r)\n",
    "    return(A,counter)\n",
    "def step_counter(a):\n",
    "    start = timeit.default_timer()\n",
    "    counter = []\n",
    "    sorted_list, count_total = merge_sort(a, 0, len(a)-1, counter[:])\n",
    "    \n",
    "    #each step will append 1 to counter list. Add sum of that entire list for total count\n",
    "    stop = timeit.default_timer()\n",
    "    elapsed = stop - start\n",
    "    return sum(count_total),  elapsed\n",
    "\n",
    "#each function returns total number of steps and then time elapsed respectively\n",
    "insertion_count,insertion_time = insertion_sort([10,9,8,7,6,5,4,3,2,1])\n",
    "bubble_count,bubble_time = bubble_sort([10,9,8,7,6,5,4,3,2,1])\n",
    "selection_count, selection_time = selection_sort([10,9,8,7,6,5,4,3,2,1])\n",
    "merge_count, merge_time = step_counter([10,9,8,7,6,5,4,3,2,1])\n",
    "\n",
    "#create axes for plt plot\n",
    "counts = [insertion_count, bubble_count, selection_count, merge_count]\n",
    "times = [insertion_time, bubble_time, selection_time, merge_time]\n",
    "sorts = ['Insertion Sort', 'Bubble Sort', 'Selection Sort', 'Merge Sort']\n",
    "\n",
    "#plot steps vs sorting algorithm\n",
    "plt.bar(sorts,counts)\n",
    "\n",
    "plt.show()"
   ]
  },
  {
   "cell_type": "code",
   "execution_count": null,
   "metadata": {},
   "outputs": [],
   "source": [
    "#In the case of steps vs algorithms, it seems very clear that merge sort performs the best. This is because merge sort's divide and conquer strategy makes it such that the total number of comparisons we draw will be drastically lower. We will never compare each value to all the other values every time, instead we sort them locally, then combine by sorting again and so on."
   ]
  },
  {
   "cell_type": "code",
   "execution_count": 67,
   "metadata": {},
   "outputs": [
    {
     "data": {
      "image/png": "[encoded data removed]",
      "text/plain": [
       "<Figure size 432x288 with 1 Axes>"
      ]
     },
     "metadata": {
      "needs_background": "light"
     },
     "output_type": "display_data"
    }
   ],
   "source": [
    "#plot time elapsed vs sorting algorithm\n",
    "plt.bar(sorts, times)\n",
    "plt.show()"
   ]
  },
  {
   "cell_type": "code",
   "execution_count": null,
   "metadata": {},
   "outputs": [],
   "source": [
    "#in this case, it appears that merge sort is actually the slowest. This is likely due to the methodology of the step counter itself being rather inefficient rather than any fault of the algorithm itself. Another possibility is that the work of splitting and merging lists is more computationally expensive than what's required in other algorithms. As such, despite lower steps, more time is required. However, as our lists scale in size to much greater values, we should begin the see the other algorithms becoming exponentially more expensive while not so much for merge sort, outperforming the others"
   ]
  }
 ],
 "metadata": {
  "celltoolbar": "Edit Metadata",
  "kernelspec": {
   "display_name": "Python 3",
   "language": "python",
   "name": "python3"
  },
  "language_info": {
   "codemirror_mode": {
    "name": "ipython",
    "version": 3
   },
   "file_extension": ".py",
   "mimetype": "text/x-python",
   "name": "python",
   "nbconvert_exporter": "python",
   "pygments_lexer": "ipython3",
   "version": "3.7.3"
  }
 },
 "nbformat": 4,
 "nbformat_minor": 2
}
