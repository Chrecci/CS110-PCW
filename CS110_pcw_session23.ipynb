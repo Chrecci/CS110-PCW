{
 "cells": [
  {
   "cell_type": "markdown",
   "metadata": {
    "deletable": false,
    "editable": false
   },
   "source": [
    "Before you turn this problem in, make sure everything runs as expected. First, **restart the kernel** (in the menubar, select Kernel$\\rightarrow$Restart) and then **run all cells** (in the menubar, select Cell$\\rightarrow$Run All).\n",
    "\n",
    "Note that this Pre-class Work is estimated to take **46 minutes**.\n",
    "\n",
    "Make sure you fill in any place that says `YOUR CODE HERE` or \"YOUR ANSWER HERE\", as well as your name and collaborators below:"
   ]
  },
  {
   "cell_type": "code",
   "execution_count": null,
   "metadata": {},
   "outputs": [],
   "source": [
    "NAME = \"Chretien Li\"\n",
    "COLLABORATORS = \"\""
   ]
  },
  {
   "cell_type": "markdown",
   "metadata": {
    "deletable": false,
    "editable": false
   },
   "source": [
    "# CS110 Pre-class Work - Computational applications of dynamic programming and greedy algorithms"
   ]
  },
  {
   "cell_type": "markdown",
   "metadata": {
    "deletable": false,
    "editable": false
   },
   "source": [
    "## Question 1 [time estimate: 18 minutes]\n",
    "Complete the following functions, following the algorithms in Cormen et al."
   ]
  },
  {
   "cell_type": "code",
   "execution_count": 9,
   "metadata": {},
   "outputs": [],
   "source": [
    "def lcs_length(x, y):\n",
    "    \"\"\"\n",
    "    Computes the length of an LCS of strings x and y.\n",
    "    \n",
    "    Inputs:\n",
    "    - x, y: strings\n",
    "    \n",
    "    Outputs:\n",
    "    - c: a list of lists of ints OR a numpy array. c[i,j] contains the \n",
    "    length of a LCS of x[:i] and y[:j]\n",
    "    - b: a list of lists of strings OR a numpy array, containing the information\n",
    "    used for LCS reconstruction (See Cormen et al.) Use \"N\" (North), \"NW\" \n",
    "    (North West), and \"W\" (West) that correspond to the directions of the arrows \n",
    "    used in Cormen et al.\n",
    "    \"\"\"\n",
    "    m = len(x)\n",
    "    n = len(y)\n",
    "    \n",
    "    #creates tables (rows of rows) of mxn size\n",
    "    b = [[0 for i in range(n+1)] for j in range(m+1)]\n",
    "    c = [[0 for i in range(n+1)] for j in range(m+1)]\n",
    "    for i in range(m+1):\n",
    "        for j in range(n+1):\n",
    "            \n",
    "            #replaces lines 4-7 in Cormen et. al., sets 1st row and 1st column to 0\n",
    "            if i == 0 or j == 0: \n",
    "                c[i][j] = 0\n",
    "                \n",
    "            #lines 10-18 of Cormen et. al.\n",
    "            #if string characters match\n",
    "            elif x[i-1] == y[j-1]:\n",
    "                \n",
    "                #its location on table c is the upper left value to it plus 1\n",
    "                c[i][j] = c[i-1][j-1]+1\n",
    "                b[i][j] = \"NW\"\n",
    "            elif c[i-1][j] >= c[i][j-1]:\n",
    "                c[i][j] = c[i-1][j]\n",
    "                b[i][j] = \"N\"\n",
    "            else:\n",
    "                c[i][j] = c[i][j-1]\n",
    "                b[i][j] = \"W\"\n",
    "    return c,b"
   ]
  },
  {
   "cell_type": "code",
   "execution_count": 12,
   "metadata": {},
   "outputs": [],
   "source": [
    "def print_lcs(b,x,i,j):\n",
    "    \"\"\"\n",
    "    Finds a LCS.\n",
    "    \n",
    "    Inputs:\n",
    "    - b: a list of lists of strings OR a numpy array, returned by lcs_length\n",
    "    - x: string, an input to lcs_length\n",
    "    - i, j: ints. print_lcs(b,x,i,j) returns a lcs of x[:i] and y[:j], where y\n",
    "    is an input to lcs_length.\n",
    "    \n",
    "    Outputs:\n",
    "    - lcs: list of strings, representing a LCS of x and y\n",
    "    - length: int, the length of the LCS\n",
    "    \n",
    "    You can choose to actually PRINT OUT the LCS or not using the print function.\n",
    "    \n",
    "    \"\"\"\n",
    "    sequence = []\n",
    "    \n",
    "    #we use this helper function such that \"sequence\" doesn't reset with each recursive call\n",
    "    sequence = recursive_lcs(b,x,i+1,j+1,sequence)\n",
    "    return sequence,len(sequence)\n",
    "\n",
    "def recursive_lcs(b,x,i,j,sequence):\n",
    "    #this is the actual code modeled after Cormen et. al.\n",
    "    #we basically work backwards, so reading from our tables, the values that match we just\n",
    "    #need to add them back to an output string, sequence\n",
    "    if i == 0 or j==0:\n",
    "        return\n",
    "    \n",
    "    #when characters equal one another, set to NW direction\n",
    "    if b[i][j] == \"NW\":\n",
    "        recursive_lcs(b,x,i-1,j-1,sequence)\n",
    "        #NW direction ones get their string values tracked\n",
    "        sequence.append(x[i-1])\n",
    "    #if they do not match, either N or nothing (W)\n",
    "    elif b[i][j] == \"N\":\n",
    "        recursive_lcs(b,x,i-1,j,sequence)\n",
    "    else:\n",
    "        recursive_lcs(b,x,i,j-1,sequence)\n",
    "    return sequence\n"
   ]
  },
  {
   "cell_type": "code",
   "execution_count": 13,
   "metadata": {
    "deletable": false,
    "editable": false
   },
   "outputs": [],
   "source": [
    "import numpy as np\n",
    "x, y = 'ambgdec', 'aubyci'\n",
    "c, b = lcs_length(x, y)\n",
    "assert(print_lcs(b,x,len(x)-1,len(y)-1)[0] == ['a', 'b', 'c'])\n",
    "assert(print_lcs(b,x,len(x)-1,len(y)-1)[1] == 3)\n",
    "\n",
    "x, y = 'xyqwsssazdesaqqf', 'xoppoypllzookjdef'\n",
    "c, b = lcs_length(x, y)\n",
    "assert(print_lcs(b,x,len(x)-1,len(y)-1)[0]  == ['x', 'y', 'z', 'd', 'e', 'f'])\n",
    "assert(print_lcs(b,x,len(x)-1,len(y)-1)[1]  == 6)"
   ]
  },
  {
   "cell_type": "markdown",
   "metadata": {
    "deletable": false,
    "editable": false
   },
   "source": [
    "## Question 2. (Adapted from Exercise 15-4.1 Cormen et al.) [time estimate: 3 minutes]\n",
    "Use the functions built in Question 1 to find the LCS of ```'10010101'``` and ```'010110110'```. You should store the list that represents the LCS you found in a variable named ```lcs_q2```"
   ]
  },
  {
   "cell_type": "code",
   "execution_count": 14,
   "metadata": {},
   "outputs": [
    {
     "data": {
      "text/plain": [
       "[1, 0, 0, 1, 1, 0]"
      ]
     },
     "execution_count": 14,
     "metadata": {},
     "output_type": "execute_result"
    }
   ],
   "source": [
    "x = [1,0,0,1,0,1,0,1]\n",
    "y = [0,1,0,1,1,0,1,1,0]\n",
    "c,b = lcs_length(x, y)\n",
    "lcs_q2 = print_lcs(b,x,len(x)-1,len(y)-1)[0]\n",
    "lcs_q2"
   ]
  },
  {
   "cell_type": "markdown",
   "metadata": {
    "deletable": false,
    "editable": false
   },
   "source": [
    "## Question 3. (Adapted from Exercise 15-4.5 Cormen et al.) [time estimate: 15 minutes]\n",
    "Complete the following function, making use of ```lcs_length``` and ```print_lcs```."
   ]
  },
  {
   "cell_type": "code",
   "execution_count": 23,
   "metadata": {},
   "outputs": [],
   "source": [
    "def lmis(lst):\n",
    "    \"\"\"\n",
    "    Finds the Longest Monotonically Increasing Subsequence (LMIS) of a list \n",
    "    (lst) of n numbers in O(n^2) time. Note that a monotonically increasing \n",
    "    sequence is a sequence of numbers such that: a_1 <= a_2 <= ... <= a_n .\n",
    "    \n",
    "    Inputs:\n",
    "    - lst: a list of ints\n",
    "    \n",
    "    Outputs:\n",
    "    - out_lst: a list of ints, a longest monotonically increasing subsequence\n",
    "    of lst\n",
    "    \"\"\"\n",
    "    #The longest common subsection problem between the list and its sorted version\n",
    "    #will give us the longest monotonically increasing subsequence of that list\n",
    "    \n",
    "    #so first copy the list\n",
    "    sorted_copy = lst.copy()\n",
    "    #then sort that copied version\n",
    "    sorted_copy.sort()\n",
    "    \n",
    "    #run lcs_length on the list and its sorted copy\n",
    "    c,b = lcs_length(lst,sorted_copy)\n",
    "    \n",
    "    #print lcs to get LMIS, which is just LCS of lst and sorted_copy\n",
    "    lmis = print_lcs(b,lst,len(lst)-1,len(sorted_copy)-1)[0]\n",
    "    return lmis"
   ]
  },
  {
   "cell_type": "code",
   "execution_count": 24,
   "metadata": {},
   "outputs": [],
   "source": [
    "assert(lmis([5, 1, 0, 4, 2, 6, 7, 9]) == [1, 4, 6, 7, 9])\n",
    "assert(lmis([6, -1,4,5,5,7,-6,2]) == [-1, 4, 5, 5, 7])"
   ]
  },
  {
   "cell_type": "markdown",
   "metadata": {
    "deletable": false,
    "editable": false
   },
   "source": [
    "## Question 4 [time estimate: 5 minutes]\n",
    "How would you devise a greedy algorithm to compute the longest common subsequence in a string? Explain your strategy step by step, and comment on any advantages/limitations over the dynamic programming approach. Provide a few test cases to check the validity of the greedy approach."
   ]
  },
  {
   "cell_type": "markdown",
   "metadata": {},
   "source": [
    "First find the shortest of the two strings, call it A (the longest possible LCS is only as long as shortest string). Call other string B. Then, put all of A's characters into a hashmap. Next, we can iterate through the longer string, B, and if any character in B, x_i, is in the hashmap, append x_i to output string. Lastly, return output string\n",
    "\n",
    "This should work faster than the dynamic programming approach; however, the greedy approach will not work if you wanted the longest common substring.\n",
    "\n",
    "Test: \n",
    "\n",
    "A = \"Iridocyclitis\"\n",
    "B = \"Bicycle\"\n",
    "\n",
    "output string: \"i-c-y-c-l\""
   ]
  },
  {
   "cell_type": "markdown",
   "metadata": {},
   "source": []
  }
 ],
 "metadata": {
  "kernelspec": {
   "display_name": "Python 3",
   "language": "python",
   "name": "python3"
  },
  "language_info": {
   "codemirror_mode": {
    "name": "ipython",
    "version": 3
   },
   "file_extension": ".py",
   "mimetype": "text/x-python",
   "name": "python",
   "nbconvert_exporter": "python",
   "pygments_lexer": "ipython3",
   "version": "3.7.3"
  }
 },
 "nbformat": 4,
 "nbformat_minor": 4
}
